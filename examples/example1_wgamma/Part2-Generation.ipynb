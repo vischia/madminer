{
 "cells": [
  {
   "cell_type": "markdown",
   "metadata": {},
   "source": [
    "# A MadMiner Example Analysis -  Analyzing dim6 operators in $W\\gamma$ "
   ]
  },
  {
   "cell_type": "markdown",
   "metadata": {},
   "source": [
    "## Preparations"
   ]
  },
  {
   "cell_type": "markdown",
   "metadata": {},
   "source": [
    "Let us first load all the python libraries again"
   ]
  },
  {
   "cell_type": "code",
   "execution_count": 1,
   "metadata": {},
   "outputs": [],
   "source": [
    "import sys\n",
    "import os\n",
    "madminer_src_path = \"/Users/felixkling/Documents/GitHub/madminer\"\n",
    "sys.path.append(madminer_src_path)\n",
    "\n",
    "from __future__ import absolute_import, division, print_function, unicode_literals\n",
    "import numpy as np\n",
    "import matplotlib\n",
    "from matplotlib import pyplot as plt\n",
    "from scipy.optimize import curve_fit\n",
    "% matplotlib inline\n",
    "\n",
    "from madminer.core import MadMiner"
   ]
  },
  {
   "cell_type": "markdown",
   "metadata": {},
   "source": [
    "Please enter here the path to your MG5 root directory **(This needs to be updated by the user)**. This notebook assumes that you installed Delphes and Pythia through MG5"
   ]
  },
  {
   "cell_type": "code",
   "execution_count": 2,
   "metadata": {},
   "outputs": [],
   "source": [
    "mg_dir = '/Users/felixkling/work/MG5_aMC_v2_6_2'"
   ]
  },
  {
   "cell_type": "markdown",
   "metadata": {},
   "source": [
    "## 2. Event Generation"
   ]
  },
  {
   "cell_type": "markdown",
   "metadata": {},
   "source": [
    "### 2a) Initialize and load MadMiner"
   ]
  },
  {
   "cell_type": "markdown",
   "metadata": {},
   "source": [
    "Let us first initialize MadMiner and load our setup again"
   ]
  },
  {
   "cell_type": "code",
   "execution_count": 3,
   "metadata": {},
   "outputs": [
    {
     "name": "stderr",
     "output_type": "stream",
     "text": [
      "21:03  \n",
      "21:03  ------------------------------------------------------------\n",
      "21:03  |                                                          |\n",
      "21:03  |  MadMiner v0.1.0                                         |\n",
      "21:03  |                                                          |\n",
      "21:03  |           Johann Brehmer, Kyle Cranmer, and Felix Kling  |\n",
      "21:03  |                                                          |\n",
      "21:03  ------------------------------------------------------------\n",
      "21:03  \n",
      "21:03  Found 2 parameters:\n",
      "21:03     CWL2 (LHA: dim6 2, maximal power in squared ME: (2,), range: (-50.0, 50.0))\n",
      "21:03     CPWL2 (LHA: dim6 5, maximal power in squared ME: (2,), range: (-50.0, 50.0))\n",
      "21:03  Found 6 benchmarks:\n",
      "21:03     sm: CWL2 = 0.00e+00, CPWL2 = 0.00e+00\n",
      "21:03     w: CWL2 = 20.00, CPWL2 = 0.00e+00\n",
      "21:03     morphing_basis_vector_2: CWL2 = -3.26e+01, CPWL2 = -4.46e+01\n",
      "21:03     morphing_basis_vector_3: CWL2 = 8.14, CPWL2 = -3.50e+01\n",
      "21:03     morphing_basis_vector_4: CWL2 = -3.51e+01, CPWL2 = 32.41\n",
      "21:03     morphing_basis_vector_5: CWL2 = 5.86, CPWL2 = 39.09\n",
      "21:03  Found morphing setup with 6 components\n"
     ]
    }
   ],
   "source": [
    "miner = MadMiner()\n",
    "miner.load('data/madminer_example.h5')"
   ]
  },
  {
   "cell_type": "markdown",
   "metadata": {},
   "source": [
    "### 2b) Run MadMiner Event Generation"
   ]
  },
  {
   "cell_type": "markdown",
   "metadata": {},
   "source": [
    "In a next step, MadMiner starts MadGraph and Pythia to generate events and calculate the weights. You have to provide paths to the process card, run card and param card (the entries corresponding to the parameters of interest will be automatically adapted). Log files in the `log_directory` folder collect the MadGraph output and are important for debugging.\n",
    "\n",
    "The `sample_benchmark` option can be used to specify which benchmark should be used for sampling. If it is not used, MadMiner will automatically use the benchmark that was added first.\n",
    "\n",
    "Finally, if MadGraph is supposed to run in a different Python environment or requires other setup steps, you can use the `initial_command` argument. If your default Python environment is Python 2.7, you do not have to use this. If it is Python 3.x, you should use this to activate a Python 2 environment (see [the conda documentation](https://conda.io/docs/user-guide/tasks/manage-environments.html)). Here we assume you have create a conda environment `python2` for this purpose. \n",
    "\n",
    "**The `initial_command` line typicially has to be updated by the user. Note that MadGraph runs in python 2** "
   ]
  },
  {
   "cell_type": "code",
   "execution_count": 4,
   "metadata": {},
   "outputs": [
    {
     "name": "stderr",
     "output_type": "stream",
     "text": [
      "21:03  Generating MadGraph process folder from cards/proc_card_wgamma.dat at ./mg_processes/wgamma\n",
      "21:03  Run 0\n",
      "21:03    Sampling from benchmark: sm\n",
      "21:03    Original run card:       cards/run_card_wgamma.dat\n",
      "21:03    Original Pythia8 card:   cards/pythia8_card.dat\n",
      "21:03    Copied run card:         /madminer/cards/run_card_0.dat\n",
      "21:03    Copied Pythia8 card:     /madminer/cards/pythia8_card_0.dat\n",
      "21:03    Param card:              /madminer/cards/param_card_0.dat\n",
      "21:03    Reweight card:           /madminer/cards/reweight_card_0.dat\n",
      "21:03    Log file:                run_0.log\n",
      "21:03  Creating param and reweight cards in ./mg_processes/wgamma//madminer/cards/param_card_0.dat, ./mg_processes/wgamma//madminer/cards/reweight_card_0.dat\n",
      "21:03  Starting MadGraph and Pythia in ./mg_processes/wgamma\n"
     ]
    }
   ],
   "source": [
    "miner.run(\n",
    "    mg_directory=mg_dir,\n",
    "    mg_process_directory='./mg_processes/wgamma',\n",
    "    log_directory='logs/wgamma',\n",
    "    sample_benchmark='sm',\n",
    "    proc_card_file='cards/proc_card_wgamma.dat',\n",
    "    param_card_template_file='cards/param_card_template.dat',\n",
    "    run_card_file='cards/run_card_wgamma.dat',\n",
    "    pythia8_card_file='cards/pythia8_card.dat',\n",
    "    initial_command='source ~/.bashrc'\n",
    ")"
   ]
  }
 ],
 "metadata": {
  "kernelspec": {
   "display_name": "Python 2",
   "language": "python",
   "name": "python2"
  },
  "language_info": {
   "codemirror_mode": {
    "name": "ipython",
    "version": 2
   },
   "file_extension": ".py",
   "mimetype": "text/x-python",
   "name": "python",
   "nbconvert_exporter": "python",
   "pygments_lexer": "ipython2",
   "version": "2.7.15"
  }
 },
 "nbformat": 4,
 "nbformat_minor": 2
}
