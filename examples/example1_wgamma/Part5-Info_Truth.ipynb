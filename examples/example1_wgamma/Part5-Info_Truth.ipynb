{
 "cells": [
  {
   "cell_type": "markdown",
   "metadata": {},
   "source": [
    "# A MadMiner Example Analysis -  Analyzing dim6 operators in $W\\gamma$ "
   ]
  },
  {
   "cell_type": "markdown",
   "metadata": {},
   "source": [
    "## Preparations"
   ]
  },
  {
   "cell_type": "markdown",
   "metadata": {},
   "source": [
    "Let us first load all the python libraries again"
   ]
  },
  {
   "cell_type": "code",
   "execution_count": 1,
   "metadata": {},
   "outputs": [],
   "source": [
    "import sys\n",
    "import os\n",
    "madminer_src_path = \"/Users/felixkling/Documents/GitHub/madminer\"\n",
    "sys.path.append(madminer_src_path)\n",
    "\n",
    "from __future__ import absolute_import, division, print_function, unicode_literals\n",
    "\n",
    "import numpy as np\n",
    "import math\n",
    "import matplotlib\n",
    "from matplotlib import pyplot as plt\n",
    "from scipy.optimize import curve_fit\n",
    "% matplotlib inline\n",
    "\n",
    "from madminer.fisherinformation import FisherInformation\n",
    "from madminer.fisherinformation import project_information,profile_information"
   ]
  },
  {
   "cell_type": "markdown",
   "metadata": {},
   "source": [
    "### 5. Calculate Fisher Information at Truth Level"
   ]
  },
  {
   "cell_type": "markdown",
   "metadata": {},
   "source": [
    "Let's define the number of particles in the sample"
   ]
  },
  {
   "cell_type": "code",
   "execution_count": 2,
   "metadata": {},
   "outputs": [],
   "source": [
    "lhedatafile='data/madminer_lhedata.h5'\n",
    "nsamples=100000"
   ]
  },
  {
   "cell_type": "markdown",
   "metadata": {},
   "source": [
    "### 5a) Initialize the Fisherinformation module "
   ]
  },
  {
   "cell_type": "markdown",
   "metadata": {},
   "source": [
    "Here we calculate the Parton Level Fisher Information, using the data extracted from the LHE file. This is done by the MadFisher package. To initialize it, we load the data from an HDF5 file."
   ]
  },
  {
   "cell_type": "code",
   "execution_count": 3,
   "metadata": {},
   "outputs": [
    {
     "name": "stderr",
     "output_type": "stream",
     "text": [
      "09:48  \n",
      "09:48  ------------------------------------------------------------\n",
      "09:48  |                                                          |\n",
      "09:48  |  MadMiner v0.1.1                                         |\n",
      "09:48  |                                                          |\n",
      "09:48  |           Johann Brehmer, Kyle Cranmer, and Felix Kling  |\n",
      "09:48  |                                                          |\n",
      "09:48  ------------------------------------------------------------\n",
      "09:48  \n",
      "09:48  Loading data from data/madminer_lhedata.h5\n",
      "09:48  Found 2 parameters:\n",
      "09:48     CWL2 (LHA: dim6 2, maximal power in squared ME: (2,), range: (-50.0, 50.0))\n",
      "09:48     CPWL2 (LHA: dim6 5, maximal power in squared ME: (2,), range: (-50.0, 50.0))\n",
      "09:48  Found 6 benchmarks:\n",
      "09:48     sm: CWL2 = 0.00e+00, CPWL2 = 0.00e+00\n",
      "09:48     w: CWL2 = 20.00, CPWL2 = 0.00e+00\n",
      "09:48     morphing_basis_vector_2: CWL2 = -3.26e+01, CPWL2 = -4.46e+01\n",
      "09:48     morphing_basis_vector_3: CWL2 = 8.14, CPWL2 = -3.50e+01\n",
      "09:48     morphing_basis_vector_4: CWL2 = -3.51e+01, CPWL2 = 32.41\n",
      "09:48     morphing_basis_vector_5: CWL2 = 5.86, CPWL2 = 39.09\n",
      "09:48  Found 26 observables: px_l, px_v, px_a, py_l, py_v, py_a, pz_l, pz_v, pz_a, e_l, e_v, e_a, pt_l, pt_v, pt_a, eta_l, eta_v, eta_a, dphi_lv, dphi_la, dphi_va, m_lv, m_lva, m_la, mtrans, phi_resurrection\n",
      "09:48  Found 100000 events\n",
      "09:48  Found morphing setup with 6 components\n"
     ]
    }
   ],
   "source": [
    "mf = FisherInformation(lhedatafile)"
   ]
  },
  {
   "cell_type": "markdown",
   "metadata": {},
   "source": [
    "### 5b) Calculate Fisher Info"
   ]
  },
  {
   "cell_type": "markdown",
   "metadata": {},
   "source": [
    "We can now calculate the Fisher Information for a given benchmark and a given luminosity (in units of pb$^{-1}$) after considering a set of cuts and efficiencies. Note that `cuts` and `observable` can be any function of observables defined when initializing the LHEProcessor, including `sin`, `cos`, `tan`, `asin`, `acos`, `atan` and `exp`."
   ]
  },
  {
   "cell_type": "code",
   "execution_count": 4,
   "metadata": {},
   "outputs": [],
   "source": [
    "# Define Benchmark\n",
    "thistheta=np.array([0,0])\n",
    "\n",
    "#Define luminosity in inverse pb\n",
    "thislumi=100*1000;\n",
    "\n",
    "#Define Cuts\n",
    "thiscuts = []\n",
    "\n",
    "#Define efficiency functions (these correspond to photon tagging efficiency)\n",
    "thisefficiencies = []"
   ]
  },
  {
   "cell_type": "markdown",
   "metadata": {},
   "source": [
    "We can now calculate different the Fisher Information:\n",
    "\n",
    "- `calculate_fisher_information_full_truth(theta,luminosity,cuts)`, which calculates the full Fisher Info, by summing over the Fisher Infos for each event passing the cuts: $I_{ij}^{full} = \\sum_{events} I_{ij}(w_i)$\n",
    "\n",
    "- `calculate_fisher_information_rate(theta,luminosity,cuts)`, which calculates the Fisher Info corresponding to only the rate, by evaluating the Fisher Info of the sum the weights of all events passing the cuts: $I_{ij}^{rate} =  I_{ij}(\\sum_{events} w_i)$ "
   ]
  },
  {
   "cell_type": "code",
   "execution_count": 5,
   "metadata": {},
   "outputs": [],
   "source": [
    "fi_full, _ = mf.calculate_fisher_information_full_truth(theta=thistheta,\n",
    "                                                     luminosity=thislumi,\n",
    "                                                     cuts=thiscuts,\n",
    "                                                     efficiency_functions=thisefficiencies\n",
    "                                                     )\n",
    "fi_rate, _ = mf.calculate_fisher_information_rate(theta=thistheta,\n",
    "                                                     luminosity=thislumi,\n",
    "                                                     cuts=thiscuts,\n",
    "                                                     efficiency_functions=thisefficiencies\n",
    "                                                     )"
   ]
  },
  {
   "cell_type": "markdown",
   "metadata": {},
   "source": [
    "Additionally, we can also calculate the Fihser Information stored in histograms (Note that we take into account underflow/overflow bins)\n",
    "\n",
    "- `calculate_fisher_information_hist1d(theta,luminosity,cuts,observable,nbins,histrange)`, which calculates the Fisher Info in a 1D histogram, by summing over the Rate Fisher Infos for each bin in the 1D Histogram: $I_{ij}^{hist} =  \\sum_{bins} I_{ij}(w_i)$\n",
    "\n",
    "- `calculate_fisher_information_hist2d(theta,luminosity,cuts,observable1,nbins1,histrange1,observable2,nbins2,histrange2)`, which calculates the Fisher Info in a 2D histogram, by summing over the Rate Fisher Infos for each bin in the 2D Histogram: $I_{ij}^{hist} =  \\sum_{bins} I_{ij}(w_i)$"
   ]
  },
  {
   "cell_type": "code",
   "execution_count": 6,
   "metadata": {},
   "outputs": [
    {
     "name": "stderr",
     "output_type": "stream",
     "text": [
      "/Users/felixkling/Documents/GitHub/madminer/madminer/fisherinformation.py:964: RuntimeWarning: divide by zero encountered in true_divide\n",
      "  inv_sigma = sanitize_array(1.0 / sigma)  # Shape (n_events,)\n"
     ]
    }
   ],
   "source": [
    "#Assign Observables \n",
    "thisxobservable='dphi_lv'\n",
    "thisxrange=(-1,1)\n",
    "thisxnbins=20\n",
    "\n",
    "thisyobservable='pt_a'\n",
    "thisyrange=(0,1000)\n",
    "thisynbins=20\n",
    "\n",
    "# Calculate Info\n",
    "fi_hist1d, _ = mf.calculate_fisher_information_hist1d(theta=thistheta,\n",
    "                                                       luminosity=thislumi,\n",
    "                                                       observable=thisxobservable,\n",
    "                                                       nbins=thisxnbins,\n",
    "                                                       histrange=thisxrange,\n",
    "                                                       cuts=thiscuts,\n",
    "                                                       efficiency_functions=thisefficiencies\n",
    "                                                       )\n",
    "fi_hist2d = mf.calculate_fisher_information_hist2d(theta=thistheta,\n",
    "                                                       luminosity=thislumi,\n",
    "                                                       observable1=thisxobservable,\n",
    "                                                       nbins1=thisxnbins,\n",
    "                                                       histrange1=thisxrange,\n",
    "                                                       observable2=thisyobservable,\n",
    "                                                       nbins2=thisynbins,\n",
    "                                                       histrange2=thisyrange,\n",
    "                                                       cuts=thiscuts,\n",
    "                                                       efficiency_functions=thisefficiencies,\n",
    "                                                       )"
   ]
  },
  {
   "cell_type": "markdown",
   "metadata": {},
   "source": [
    "Let us now look at the different Fisher Information matrices"
   ]
  },
  {
   "cell_type": "code",
   "execution_count": 7,
   "metadata": {},
   "outputs": [
    {
     "name": "stdout",
     "output_type": "stream",
     "text": [
      "Full    Fisher Info: \n",
      " [[0.01805731 0.00013349]\n",
      " [0.00013349 0.07144308]] \n",
      " Determinant:  0.0012900519875057633\n",
      "Rate    Fisher Info: \n",
      " [[1.82075588e-04 3.86808408e-05]\n",
      " [3.86808408e-05 8.21750713e-06]] \n",
      " Determinant:  5.007295298259919e-25\n",
      "Hist 1D Fisher Info: \n",
      " [[2.49124097e-04 9.95514763e-05]\n",
      " [9.95514763e-05 3.54709369e-02]] \n",
      " Determinant:  8.826754637021708e-06\n",
      "Hist 2D Fisher Info: \n",
      " [[3.17020420e-04 9.11053663e-05]\n",
      " [9.11053663e-05 3.95563611e-02]] \n",
      " Determinant:  1.2531873998859684e-05\n"
     ]
    }
   ],
   "source": [
    "print ('Full    Fisher Info: \\n' , fi_full, \"\\n Determinant: \", np.linalg.det(fi_full) )  \n",
    "print ('Rate    Fisher Info: \\n' , fi_rate, \"\\n Determinant: \", np.linalg.det(fi_rate) )\n",
    "print ('Hist 1D Fisher Info: \\n' , fi_hist1d, \"\\n Determinant: \", np.linalg.det(fi_hist1d) ) \n",
    "print ('Hist 2D Fisher Info: \\n' , fi_hist2d, \"\\n Determinant: \", np.linalg.det(fi_hist2d) ) "
   ]
  },
  {
   "cell_type": "markdown",
   "metadata": {},
   "source": [
    "### 5c) Project and Profile "
   ]
  },
  {
   "cell_type": "markdown",
   "metadata": {},
   "source": [
    "In many cases, we will calculate large $n \\times n$ Fisher Info matrices. The dimensionality of the Fisher Information tensor can be reduced by either ignoring components (setting them to zero) or by profiling over components. This is done by the following two functions:\n",
    "- `project_information(fisher_info, remaining_components)`\n",
    "- `profile_information(fisher_info, remaining_components)`\n",
    "\n",
    "where `fisher_info` is the original Fisher Information tensor and `remaining_components` is a list of indices of which rows / columns to keep. "
   ]
  },
  {
   "cell_type": "code",
   "execution_count": 8,
   "metadata": {},
   "outputs": [
    {
     "name": "stdout",
     "output_type": "stream",
     "text": [
      "Projected out O_W:  [[0.01805731]]\n",
      "Profiled over O_W:  [[0.01805706]]\n"
     ]
    }
   ],
   "source": [
    "print ('Projected out O_W: ', project_information(fi_full,[0]) )\n",
    "print ('Profiled over O_W: ', profile_information(fi_full,[0]) )"
   ]
  },
  {
   "cell_type": "markdown",
   "metadata": {},
   "source": [
    "### 5d) The Bar Plot"
   ]
  },
  {
   "cell_type": "markdown",
   "metadata": {},
   "source": [
    "Now it's time to do some physics: Let's compare the Fisher Information tensors for different analysis strategies. This can simply be done using the plotting function `plot_fisherinfo_barplot()`. Its inputs are\n",
    "\n",
    "- `matrices` list of Fisher Information tensors for upper panel\n",
    "- `matrices_for_determinants` llist of Fisher Information tensors for lower panel\n",
    "- `labels` list of names for analysis strategy\n",
    "- `categories` assignment of category for each label - there will be extra space between categories\n",
    "- `operatorlabels` list of operator names \n",
    "- `filename` save files under filename (starting from current working directory)\n",
    "- `additional_label` label in lower panel\n",
    "- `top_label` label above top panel\n",
    "- `normalise_determinants` are determinants normalized to unity ?\n",
    "- `use_bar_colors` are bars in lower panel colored or gray ? \n",
    "- `eigenvalue_operator_legend` plot legend for operators ?"
   ]
  },
  {
   "cell_type": "code",
   "execution_count": 9,
   "metadata": {
    "scrolled": false
   },
   "outputs": [
    {
     "data": {
      "image/png": "[encoded data removed]",
      "text/plain": [
       "<matplotlib.figure.Figure at 0x10945ded0>"
      ]
     },
     "metadata": {},
     "output_type": "display_data"
    }
   ],
   "source": [
    "from madminer.plotting import plot_fisherinfo_barplot\n",
    "\n",
    "list_of_fi=[fi_full,fi_rate,fi_hist1d,fi_hist2d]\n",
    "list_of_labels=[\"full\",\"rate\",\"1D: dphi_lv\",\"2D: dphi_lv,pt_a\"] \n",
    "list_of_operators=[r'$\\mathcal{O}_{W}$',r'$\\mathcal{O}_{\\widetilde{W}}$']\n",
    "list_of_projected_fi=[ project_information(list_of_fi[i],[0]) for i in range(0,len(list_of_fi))] \n",
    "\n",
    "barplot = plot_fisherinfo_barplot(\n",
    "    fisher_information_matrices=list_of_fi,\n",
    "    labels=list_of_labels\n",
    ")"
   ]
  },
  {
   "cell_type": "markdown",
   "metadata": {},
   "source": [
    "### 5e) The Contour Plot"
   ]
  },
  {
   "cell_type": "markdown",
   "metadata": {},
   "source": [
    "Using the Fisher Information, we can calculate the sensitivity for the coupling measurement. A particularly easy way is the *linearized distance* which is defined as $d(\\theta_1, \\theta_2) = I_{i,j} (\\theta_1 - \\theta_2)^i (\\theta_1 - \\theta_2)^j$.  \n",
    "\n",
    "The funtion `plot_linearized_contours_2d()` visualize the sensitivity to two operators in a contour plot: it shows the $d(\\theta,0)$ contours around the SM-value. Its inputs are\n",
    "\n",
    "- `fisher_information_matrices` list of 2-dimensional Fisher Information matrices\n",
    "- `contour_distance` distances contour drawn $d(\\theta,0)$ \n",
    "- `xlabel` label of x-axis \n",
    "- `ylabel` label of y-axis \n",
    "- `xrange` range of x-axis\n",
    "- `yrange` range of y-axis\n",
    "- `matrix_labels` list of labels corresponding to the Fisher Information matrices \n",
    "- `resolution` number of grid points for evaluation of figure, 100 seems reasonable"
   ]
  },
  {
   "cell_type": "code",
   "execution_count": 10,
   "metadata": {},
   "outputs": [
    {
     "data": {
      "image/png": "[encoded data removed]",
      "text/plain": [
       "<matplotlib.figure.Figure at 0x10945df50>"
      ]
     },
     "metadata": {},
     "output_type": "display_data"
    }
   ],
   "source": [
    "from madminer.plotting import plot_fisher_information_contours_2d\n",
    "\n",
    "contourplot = plot_fisher_information_contours_2d(\n",
    "    fisher_information_matrices=list_of_fi, \n",
    "    contour_distance=1,\n",
    "    xlabel=r'$\\mathcal{O}_{W}$',\n",
    "    ylabel=r'$\\mathcal{O}_{\\widetilde{W}}$',\n",
    "    xrange=(-100.,100.),\n",
    "    yrange=(-100.,100.),\n",
    "    inline_labels=list_of_labels,\n",
    "    resolution=100\n",
    ")"
   ]
  },
  {
   "cell_type": "markdown",
   "metadata": {},
   "source": [
    "### 5f) The Fisher Information Histogram"
   ]
  },
  {
   "cell_type": "markdown",
   "metadata": {},
   "source": [
    "We can also look at the kinematic distribution of information. To do so, we first use the function `histogram_of_fisher_information()` to get a histogram of the weight for a given theta (`w_in_histo`), the rate-only fisher information in each bin (`fi_histo_rate`) and total fisher information in each bin (`fi_histo_full`). Here we again can include cuts and efficiencies. \n",
    "\n",
    "In the next step we can plot the histogram using the plotting fuction `kinematic_distribution_of_information`. The black line corresponds to the cross section, the red-shaded area to the determinant of the full fisher information distribution and the red dashed line to the determinant of the rate-only fisher information distribution. \n",
    "\n",
    "In the example below we only show the Fisher Information on $\\mathcal{O}_{\\widetilde{W}}$. Once considering higher dimensional Fisher Informations, the rate determinant of the rate-only fisher information will naturally vanish. "
   ]
  },
  {
   "cell_type": "code",
   "execution_count": 11,
   "metadata": {},
   "outputs": [
    {
     "data": {
      "image/png": "[encoded data removed]",
      "text/plain": [
       "<matplotlib.figure.Figure at 0x113f1b650>"
      ]
     },
     "metadata": {},
     "output_type": "display_data"
    }
   ],
   "source": [
    "from madminer.plotting import plot_distribution_of_information\n",
    "\n",
    "bins_histo, w_in_histo, fi_histo_rate, fi_histo_full = mf.histogram_of_fisher_information(\n",
    "    theta=thistheta,\n",
    "    luminosity=thislumi,\n",
    "    observable=thisxobservable,\n",
    "    nbins=thisxnbins,\n",
    "    histrange=thisxrange,\n",
    "    cuts=thiscuts,\n",
    "    efficiency_functions=thisefficiencies\n",
    ")\n",
    "\n",
    "proj_fi_histo_rate=[ project_information(fi_histo_rate[i],[1]) for i in range(0,len(fi_histo_rate))] \n",
    "proj_fi_histo_full=[ project_information(fi_histo_full[i],[1]) for i in range(0,len(fi_histo_full))] \n",
    "\n",
    "histoplot = plot_distribution_of_information(\n",
    "    xbins=bins_histo, \n",
    "    xsecs=w_in_histo,\n",
    "    fisher_information_matrices=proj_fi_histo_full, \n",
    "    fisher_information_matrices_aux=proj_fi_histo_rate,\n",
    "    xlabel=\"dphi_lv \",\n",
    "    xmin=-1,\n",
    "    xmax=1,\n",
    "    log_xsec=False,\n",
    "    norm_xsec=True\n",
    ")"
   ]
  },
  {
   "cell_type": "code",
   "execution_count": null,
   "metadata": {},
   "outputs": [],
   "source": []
  }
 ],
 "metadata": {
  "kernelspec": {
   "display_name": "Python 2",
   "language": "python",
   "name": "python2"
  },
  "language_info": {
   "codemirror_mode": {
    "name": "ipython",
    "version": 2
   },
   "file_extension": ".py",
   "mimetype": "text/x-python",
   "name": "python",
   "nbconvert_exporter": "python",
   "pygments_lexer": "ipython2",
   "version": "2.7.15"
  }
 },
 "nbformat": 4,
 "nbformat_minor": 2
}
