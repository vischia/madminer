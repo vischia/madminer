{
 "cells": [
  {
   "cell_type": "markdown",
   "metadata": {},
   "source": [
    "# A MadMiner Example Analysis -  Analyzing dim6 operators in $W\\gamma$ "
   ]
  },
  {
   "cell_type": "markdown",
   "metadata": {},
   "source": [
    "## Preparations"
   ]
  },
  {
   "cell_type": "markdown",
   "metadata": {},
   "source": [
    "Let us first load all the python libraries again"
   ]
  },
  {
   "cell_type": "code",
   "execution_count": 1,
   "metadata": {},
   "outputs": [],
   "source": [
    "import sys\n",
    "import os\n",
    "madminer_src_path = \"/Users/felixkling/Documents/GitHub/madminer\"\n",
    "sys.path.append(madminer_src_path)\n",
    "\n",
    "from __future__ import absolute_import, division, print_function, unicode_literals\n",
    "\n",
    "import numpy as np\n",
    "import math\n",
    "import matplotlib\n",
    "from matplotlib import pyplot as plt\n",
    "from scipy.optimize import curve_fit\n",
    "% matplotlib inline\n",
    "\n",
    "from madminer.fisherinformation import FisherInformation\n",
    "from madminer.fisherinformation import project_information,profile_information\n",
    "\n",
    "from madminer.plotting import plot_fisher_information_contours_2d\n",
    "\n",
    "from madminer.sampling import SampleAugmenter\n",
    "from madminer.sampling import constant_benchmark_theta, multiple_benchmark_thetas\n",
    "from madminer.sampling import constant_morphing_theta, multiple_morphing_thetas, random_morphing_thetas\n",
    "from madminer.ml import MLForge, EnsembleForge\n",
    "\n",
    "from sklearn.metrics import mean_squared_error"
   ]
  },
  {
   "cell_type": "markdown",
   "metadata": {},
   "source": [
    "## 6. Obtaining the Fisher Information using Machine Learning"
   ]
  },
  {
   "cell_type": "markdown",
   "metadata": {},
   "source": [
    "Here we introduce some alternative steps which will lead us to an estimator for the score at a reference point (SALLY) and the expected Fisher information. Along the way, we'll introduce some powerful ensemble methods."
   ]
  },
  {
   "cell_type": "markdown",
   "metadata": {},
   "source": [
    "To not forget anything later, let us globaly define the number of events in the MG sample"
   ]
  },
  {
   "cell_type": "code",
   "execution_count": 2,
   "metadata": {},
   "outputs": [],
   "source": [
    "lhedatafile = 'data/madminer_lhedata.h5'\n",
    "nsamples = 100000"
   ]
  },
  {
   "cell_type": "markdown",
   "metadata": {},
   "source": [
    "### 6a) Make (unweighted) training and test samples with augmented data"
   ]
  },
  {
   "cell_type": "markdown",
   "metadata": {},
   "source": [
    "The next step is handled by the `madminer.sampling` class `SampleAugmenter`. From all the data we have in the MadMiner file now, it extracts unweighted samples including the augmented data, that is needed as training and evaluation data for the machine learning algorithms."
   ]
  },
  {
   "cell_type": "code",
   "execution_count": 3,
   "metadata": {},
   "outputs": [
    {
     "name": "stderr",
     "output_type": "stream",
     "text": [
      "09:51  \n",
      "09:51  ------------------------------------------------------------\n",
      "09:51  |                                                          |\n",
      "09:51  |  MadMiner v0.1.1                                         |\n",
      "09:51  |                                                          |\n",
      "09:51  |           Johann Brehmer, Kyle Cranmer, and Felix Kling  |\n",
      "09:51  |                                                          |\n",
      "09:51  ------------------------------------------------------------\n",
      "09:51  \n",
      "09:51  Loading data from data/madminer_lhedata.h5\n",
      "09:51  Found 2 parameters:\n",
      "09:51     CWL2 (LHA: dim6 2, maximal power in squared ME: (2,), range: (-50.0, 50.0))\n",
      "09:51     CPWL2 (LHA: dim6 5, maximal power in squared ME: (2,), range: (-50.0, 50.0))\n",
      "09:51  Found 6 benchmarks:\n",
      "09:51     sm: CWL2 = 0.00e+00, CPWL2 = 0.00e+00\n",
      "09:51     w: CWL2 = 20.00, CPWL2 = 0.00e+00\n",
      "09:51     morphing_basis_vector_2: CWL2 = -3.26e+01, CPWL2 = -4.46e+01\n",
      "09:51     morphing_basis_vector_3: CWL2 = 8.14, CPWL2 = -3.50e+01\n",
      "09:51     morphing_basis_vector_4: CWL2 = -3.51e+01, CPWL2 = 32.41\n",
      "09:51     morphing_basis_vector_5: CWL2 = 5.86, CPWL2 = 39.09\n",
      "09:51  Found 26 observables: px_l, px_v, px_a, py_l, py_v, py_a, pz_l, pz_v, pz_a, e_l, e_v, e_a, pt_l, pt_v, pt_a, eta_l, eta_v, eta_a, dphi_lv, dphi_la, dphi_va, m_lv, m_lva, m_la, mtrans, phi_resurrection\n",
      "09:51  Found 100000 events\n",
      "09:51  Found morphing setup with 6 components\n"
     ]
    }
   ],
   "source": [
    "sa = SampleAugmenter(lhedatafile, debug=False)"
   ]
  },
  {
   "cell_type": "markdown",
   "metadata": {},
   "source": [
    "The relevant `SampleAugmenter` function for local score estimators is `extract_samples_train_local()`. For the argument `theta` you can use the helper functions `constant_benchmark_theta()`, `multiple_benchmark_thetas()`, `constant_morphing_theta()`, `multiple_morphing_thetas()`, and `random_morphing_thetas()`. \n",
    "\n",
    "Here we are mostly interested in evaluating the Fisher Info at the SM benchmark. We will create two sets of samples, one for training and one for testing. In particular, for training we create `n_estimator` sets of samples. This will allow us later to better investigate the uncertainty of the estimates Fisher Information. "
   ]
  },
  {
   "cell_type": "code",
   "execution_count": 4,
   "metadata": {},
   "outputs": [
    {
     "name": "stderr",
     "output_type": "stream",
     "text": [
      "09:51  Extracting training sample for local score regression. Sampling and score evaluation according to (u'benchmark', u'sm')\n",
      "09:51  Effective number of samples: 49999.99999997564\n",
      "09:51  Extracting training sample for local score regression. Sampling and score evaluation according to (u'benchmark', u'sm')\n",
      "09:51  Effective number of samples: 49999.99999997564\n",
      "09:51  Extracting training sample for local score regression. Sampling and score evaluation according to (u'benchmark', u'sm')\n",
      "09:51  Effective number of samples: 49999.99999997564\n",
      "09:51  Extracting training sample for local score regression. Sampling and score evaluation according to (u'benchmark', u'sm')\n",
      "09:51  Effective number of samples: 49999.99999997564\n",
      "09:51  Extracting training sample for local score regression. Sampling and score evaluation according to (u'benchmark', u'sm')\n",
      "09:51  Effective number of samples: 49999.99999997564\n",
      "09:51  Extracting evaluation sample. Sampling according to (u'benchmark', u'sm')\n",
      "09:51  Effective number of samples: 49998.99999997565\n"
     ]
    }
   ],
   "source": [
    "#Define n_estimator\n",
    "n_estimators = 5\n",
    "\n",
    "#augment train sample\n",
    "for i in range(n_estimators):\n",
    "    x, theta, t_xz = sa.extract_samples_train_local(\n",
    "        theta=constant_benchmark_theta('sm'),\n",
    "        n_samples=int(nsamples/2),\n",
    "        folder='./data/samples_ensemble/',\n",
    "        filename='train{}'.format(i)\n",
    "    )\n",
    "\n",
    "#augment test sample\n",
    "x, theta = sa.extract_samples_test(\n",
    "    theta=constant_benchmark_theta('sm'),\n",
    "    n_samples=int(nsamples/2),\n",
    "    folder='./data/samples_ensemble/',\n",
    "    filename='test'\n",
    ")"
   ]
  },
  {
   "cell_type": "markdown",
   "metadata": {},
   "source": [
    "### 6b)  Train a neural network to estimate the score"
   ]
  },
  {
   "cell_type": "markdown",
   "metadata": {},
   "source": [
    "It's now time to build a neural network. Only this time, instead of the likelihood ratio itself, we will estimate the gradient of the log likelihood with respect to the theory parameters -- the score. To be precise, the output of the neural network is an estimate of the score at some reference parameter point, for instance the Standard Model. A neural network that estimates this \"local\" score can be used to calculate the Fisher information at that point. The estimated score can also be used as a machine learning version of Optimal Observables, and likelihoods can be estimated based on density estimation in the estimated score space. This method for likelihood ratio estimation is called SALLY, and there is a closely related version called SALLINO. Both are explained in [\"Constraining Effective Field Theories With Machine Learning\"](https://arxiv.org/abs/1805.00013) and [\"A Guide to Constraining Effective Field Theories With Machine Learning\"](https://arxiv.org/abs/1805.00020).\n",
    "\n",
    "Again, the central object for this is the `madminer.ml.MLForge` class to get a single estimator. Additionally, instead of using a single neural network to estimate the likelihood ratio, score, or Fisher information, we can use an ensemble of such estimators. That provides us with a more reliable mean prediction as well as a measure of the uncertainty. The class `madminer.ml.EnsembleForge` automates this process. Currently, it only supports SALLY estimators:"
   ]
  },
  {
   "cell_type": "code",
   "execution_count": 5,
   "metadata": {},
   "outputs": [],
   "source": [
    "ensemble = EnsembleForge(estimators=n_estimators)"
   ]
  },
  {
   "cell_type": "markdown",
   "metadata": {},
   "source": [
    "In particular, we can train all estimators simultaneously with `train_all()` and save the ensemble to files"
   ]
  },
  {
   "cell_type": "code",
   "execution_count": 6,
   "metadata": {},
   "outputs": [
    {
     "name": "stderr",
     "output_type": "stream",
     "text": [
      "09:51  Training 5 estimators in ensemble\n",
      "09:51  Training estimator 1 / 5 in ensemble\n",
      "09:51  Starting training\n",
      "09:51    Method:                 sally\n",
      "09:51    Training data: x at data/samples_ensemble/x_train0.npy\n",
      "09:51                   t_xz (theta0) at  data/samples_ensemble/t_xz_train0.npy\n",
      "09:51    Features:               all\n",
      "09:51    Method:                 sally\n",
      "09:51    Hidden layers:          (100, 100)\n",
      "09:51    Activation function:    tanh\n",
      "09:51    Batch size:             128\n",
      "09:51    Trainer:                amsgrad\n",
      "09:51    Epochs:                 50\n",
      "09:51    Learning rate:          0.001 initially, decaying to 0.0001\n",
      "09:51    Validation split:       None\n",
      "09:51    Early stopping:         True\n",
      "09:51    Scale inputs:           True\n",
      "09:51    Shuffle labels          False\n",
      "09:51    Regularization:         None\n",
      "09:51  Loading training data\n",
      "09:51  Found 50000 samples with 2 parameters and 26 observables\n",
      "09:51  Rescaling inputs\n",
      "09:51  Creating model for method sally\n",
      "09:51  Training model\n",
      "09:51    Epoch 5: train loss 0.0005 (mse_score: 0.0005)\n",
      "09:51    Epoch 10: train loss 0.0004 (mse_score: 0.0004)\n",
      "09:51    Epoch 15: train loss 0.0003 (mse_score: 0.0003)\n",
      "09:51    Epoch 20: train loss 0.0003 (mse_score: 0.0003)\n",
      "09:51    Epoch 25: train loss 0.0003 (mse_score: 0.0003)\n",
      "09:51    Epoch 30: train loss 0.0002 (mse_score: 0.0002)\n",
      "09:51    Epoch 35: train loss 0.0002 (mse_score: 0.0002)\n",
      "09:51    Epoch 40: train loss 0.0002 (mse_score: 0.0002)\n",
      "09:51    Epoch 45: train loss 0.0002 (mse_score: 0.0002)\n",
      "09:51    Epoch 50: train loss 0.0002 (mse_score: 0.0002)\n",
      "09:51  Finished training\n",
      "09:51  Training estimator 2 / 5 in ensemble\n",
      "09:51  Starting training\n",
      "09:51    Method:                 sally\n",
      "09:51    Training data: x at data/samples_ensemble/x_train1.npy\n",
      "09:51                   t_xz (theta0) at  data/samples_ensemble/t_xz_train1.npy\n",
      "09:51    Features:               all\n",
      "09:51    Method:                 sally\n",
      "09:51    Hidden layers:          (100, 100)\n",
      "09:51    Activation function:    tanh\n",
      "09:51    Batch size:             128\n",
      "09:51    Trainer:                amsgrad\n",
      "09:51    Epochs:                 50\n",
      "09:51    Learning rate:          0.001 initially, decaying to 0.0001\n",
      "09:51    Validation split:       None\n",
      "09:51    Early stopping:         True\n",
      "09:51    Scale inputs:           True\n",
      "09:51    Shuffle labels          False\n",
      "09:51    Regularization:         None\n",
      "09:51  Loading training data\n",
      "09:51  Found 50000 samples with 2 parameters and 26 observables\n",
      "09:51  Rescaling inputs\n",
      "09:51  Creating model for method sally\n",
      "09:51  Training model\n",
      "09:51    Epoch 5: train loss 0.0005 (mse_score: 0.0005)\n",
      "09:51    Epoch 10: train loss 0.0004 (mse_score: 0.0004)\n",
      "09:52    Epoch 15: train loss 0.0004 (mse_score: 0.0004)\n",
      "09:52    Epoch 20: train loss 0.0003 (mse_score: 0.0003)\n",
      "09:52    Epoch 25: train loss 0.0003 (mse_score: 0.0003)\n",
      "09:52    Epoch 30: train loss 0.0003 (mse_score: 0.0003)\n",
      "09:52    Epoch 35: train loss 0.0002 (mse_score: 0.0002)\n",
      "09:52    Epoch 40: train loss 0.0002 (mse_score: 0.0002)\n",
      "09:52    Epoch 45: train loss 0.0002 (mse_score: 0.0002)\n",
      "09:52    Epoch 50: train loss 0.0002 (mse_score: 0.0002)\n",
      "09:52  Finished training\n",
      "09:52  Training estimator 3 / 5 in ensemble\n",
      "09:52  Starting training\n",
      "09:52    Method:                 sally\n",
      "09:52    Training data: x at data/samples_ensemble/x_train2.npy\n",
      "09:52                   t_xz (theta0) at  data/samples_ensemble/t_xz_train2.npy\n",
      "09:52    Features:               all\n",
      "09:52    Method:                 sally\n",
      "09:52    Hidden layers:          (100, 100)\n",
      "09:52    Activation function:    tanh\n",
      "09:52    Batch size:             128\n",
      "09:52    Trainer:                amsgrad\n",
      "09:52    Epochs:                 50\n",
      "09:52    Learning rate:          0.001 initially, decaying to 0.0001\n",
      "09:52    Validation split:       None\n",
      "09:52    Early stopping:         True\n",
      "09:52    Scale inputs:           True\n",
      "09:52    Shuffle labels          False\n",
      "09:52    Regularization:         None\n",
      "09:52  Loading training data\n",
      "09:52  Found 50000 samples with 2 parameters and 26 observables\n",
      "09:52  Rescaling inputs\n",
      "09:52  Creating model for method sally\n",
      "09:52  Training model\n",
      "09:52    Epoch 5: train loss 0.0005 (mse_score: 0.0005)\n",
      "09:52    Epoch 10: train loss 0.0004 (mse_score: 0.0004)\n",
      "09:52    Epoch 15: train loss 0.0003 (mse_score: 0.0003)\n",
      "09:52    Epoch 20: train loss 0.0003 (mse_score: 0.0003)\n",
      "09:52    Epoch 25: train loss 0.0002 (mse_score: 0.0002)\n",
      "09:52    Epoch 30: train loss 0.0002 (mse_score: 0.0002)\n",
      "09:52    Epoch 35: train loss 0.0002 (mse_score: 0.0002)\n",
      "09:53    Epoch 40: train loss 0.0002 (mse_score: 0.0002)\n",
      "09:53    Epoch 45: train loss 0.0002 (mse_score: 0.0002)\n",
      "09:53    Epoch 50: train loss 0.0002 (mse_score: 0.0002)\n",
      "09:53  Finished training\n",
      "09:53  Training estimator 4 / 5 in ensemble\n",
      "09:53  Starting training\n",
      "09:53    Method:                 sally\n",
      "09:53    Training data: x at data/samples_ensemble/x_train3.npy\n",
      "09:53                   t_xz (theta0) at  data/samples_ensemble/t_xz_train3.npy\n",
      "09:53    Features:               all\n",
      "09:53    Method:                 sally\n",
      "09:53    Hidden layers:          (100, 100)\n",
      "09:53    Activation function:    tanh\n",
      "09:53    Batch size:             128\n",
      "09:53    Trainer:                amsgrad\n",
      "09:53    Epochs:                 50\n",
      "09:53    Learning rate:          0.001 initially, decaying to 0.0001\n",
      "09:53    Validation split:       None\n",
      "09:53    Early stopping:         True\n",
      "09:53    Scale inputs:           True\n",
      "09:53    Shuffle labels          False\n",
      "09:53    Regularization:         None\n",
      "09:53  Loading training data\n",
      "09:53  Found 50000 samples with 2 parameters and 26 observables\n",
      "09:53  Rescaling inputs\n",
      "09:53  Creating model for method sally\n",
      "09:53  Training model\n",
      "09:53    Epoch 5: train loss 0.0005 (mse_score: 0.0005)\n",
      "09:53    Epoch 10: train loss 0.0004 (mse_score: 0.0004)\n",
      "09:53    Epoch 15: train loss 0.0003 (mse_score: 0.0003)\n",
      "09:53    Epoch 20: train loss 0.0003 (mse_score: 0.0003)\n",
      "09:53    Epoch 25: train loss 0.0003 (mse_score: 0.0003)\n",
      "09:53    Epoch 30: train loss 0.0002 (mse_score: 0.0002)\n",
      "09:53    Epoch 35: train loss 0.0002 (mse_score: 0.0002)\n",
      "09:53    Epoch 40: train loss 0.0002 (mse_score: 0.0002)\n",
      "09:53    Epoch 45: train loss 0.0002 (mse_score: 0.0002)\n",
      "09:53    Epoch 50: train loss 0.0002 (mse_score: 0.0002)\n",
      "09:53  Finished training\n",
      "09:53  Training estimator 5 / 5 in ensemble\n",
      "09:53  Starting training\n",
      "09:53    Method:                 sally\n",
      "09:53    Training data: x at data/samples_ensemble/x_train4.npy\n",
      "09:53                   t_xz (theta0) at  data/samples_ensemble/t_xz_train4.npy\n",
      "09:53    Features:               all\n",
      "09:53    Method:                 sally\n",
      "09:53    Hidden layers:          (100, 100)\n",
      "09:53    Activation function:    tanh\n",
      "09:53    Batch size:             128\n",
      "09:53    Trainer:                amsgrad\n",
      "09:53    Epochs:                 50\n",
      "09:53    Learning rate:          0.001 initially, decaying to 0.0001\n",
      "09:53    Validation split:       None\n",
      "09:53    Early stopping:         True\n",
      "09:53    Scale inputs:           True\n",
      "09:53    Shuffle labels          False\n",
      "09:53    Regularization:         None\n",
      "09:53  Loading training data\n",
      "09:53  Found 50000 samples with 2 parameters and 26 observables\n",
      "09:53  Rescaling inputs\n",
      "09:53  Creating model for method sally\n",
      "09:53  Training model\n",
      "09:54    Epoch 5: train loss 0.0005 (mse_score: 0.0005)\n",
      "09:54    Epoch 10: train loss 0.0004 (mse_score: 0.0004)\n",
      "09:54    Epoch 15: train loss 0.0003 (mse_score: 0.0003)\n",
      "09:54    Epoch 20: train loss 0.0003 (mse_score: 0.0003)\n",
      "09:54    Epoch 25: train loss 0.0003 (mse_score: 0.0003)\n",
      "09:54    Epoch 30: train loss 0.0003 (mse_score: 0.0003)\n",
      "09:54    Epoch 35: train loss 0.0002 (mse_score: 0.0002)\n",
      "09:54    Epoch 40: train loss 0.0002 (mse_score: 0.0002)\n",
      "09:54    Epoch 45: train loss 0.0002 (mse_score: 0.0002)\n",
      "09:54    Epoch 50: train loss 0.0002 (mse_score: 0.0002)\n",
      "09:54  Finished training\n"
     ]
    }
   ],
   "source": [
    "ensemble.train_all(\n",
    "    method='sally',\n",
    "    x_filename=['data/samples_ensemble/x_train{}.npy'.format(i) for i in range(n_estimators)],\n",
    "    t_xz0_filename=['data/samples_ensemble/t_xz_train{}.npy'.format(i) for i in range(n_estimators)]\n",
    ")\n",
    "\n",
    "ensemble.save('models/samples_ensemble')"
   ]
  },
  {
   "cell_type": "markdown",
   "metadata": {},
   "source": [
    "### 6c)  Train a neural network with subset of observables"
   ]
  },
  {
   "cell_type": "markdown",
   "metadata": {},
   "source": [
    "We can also train the EnsembleForge with just a subset of observables. This is done with the option `features`. In the following example we drop the unobservable degrees of freedom of the neutrino"
   ]
  },
  {
   "cell_type": "code",
   "execution_count": 7,
   "metadata": {},
   "outputs": [
    {
     "name": "stderr",
     "output_type": "stream",
     "text": [
      "09:54  Training 5 estimators in ensemble\n",
      "09:54  Training estimator 1 / 5 in ensemble\n",
      "09:54  Starting training\n",
      "09:54    Method:                 sally\n",
      "09:54    Training data: x at data/samples_ensemble/x_train0.npy\n",
      "09:54                   t_xz (theta0) at  data/samples_ensemble/t_xz_train0.npy\n",
      "09:54    Features:               (0, 1, 2, 3, 4, 5, 6, 8, 9, 11, 12, 13, 14, 15, 17, 18, 19, 20, 23, 24, 25)\n",
      "09:54    Method:                 sally\n",
      "09:54    Hidden layers:          (100, 100)\n",
      "09:54    Activation function:    tanh\n",
      "09:54    Batch size:             128\n",
      "09:54    Trainer:                amsgrad\n",
      "09:54    Epochs:                 50\n",
      "09:54    Learning rate:          0.001 initially, decaying to 0.0001\n",
      "09:54    Validation split:       None\n",
      "09:54    Early stopping:         True\n",
      "09:54    Scale inputs:           True\n",
      "09:54    Shuffle labels          False\n",
      "09:54    Regularization:         None\n",
      "09:54  Loading training data\n",
      "09:54  Found 50000 samples with 2 parameters and 26 observables\n",
      "09:54  Rescaling inputs\n",
      "09:54  Only using 21 of 26 observables\n",
      "09:54  Creating model for method sally\n",
      "09:54  Training model\n",
      "09:54    Epoch 5: train loss 0.0006 (mse_score: 0.0006)\n",
      "09:54    Epoch 10: train loss 0.0005 (mse_score: 0.0005)\n",
      "09:54    Epoch 15: train loss 0.0005 (mse_score: 0.0005)\n",
      "09:54    Epoch 20: train loss 0.0005 (mse_score: 0.0005)\n",
      "09:55    Epoch 25: train loss 0.0004 (mse_score: 0.0004)\n",
      "09:55    Epoch 30: train loss 0.0004 (mse_score: 0.0004)\n",
      "09:55    Epoch 35: train loss 0.0004 (mse_score: 0.0004)\n",
      "09:55    Epoch 40: train loss 0.0004 (mse_score: 0.0004)\n",
      "09:55    Epoch 45: train loss 0.0004 (mse_score: 0.0004)\n",
      "09:55    Epoch 50: train loss 0.0004 (mse_score: 0.0004)\n",
      "09:55  Finished training\n",
      "09:55  Training estimator 2 / 5 in ensemble\n",
      "09:55  Starting training\n",
      "09:55    Method:                 sally\n",
      "09:55    Training data: x at data/samples_ensemble/x_train1.npy\n",
      "09:55                   t_xz (theta0) at  data/samples_ensemble/t_xz_train1.npy\n",
      "09:55    Features:               (0, 1, 2, 3, 4, 5, 6, 8, 9, 11, 12, 13, 14, 15, 17, 18, 19, 20, 23, 24, 25)\n",
      "09:55    Method:                 sally\n",
      "09:55    Hidden layers:          (100, 100)\n",
      "09:55    Activation function:    tanh\n",
      "09:55    Batch size:             128\n",
      "09:55    Trainer:                amsgrad\n",
      "09:55    Epochs:                 50\n",
      "09:55    Learning rate:          0.001 initially, decaying to 0.0001\n",
      "09:55    Validation split:       None\n",
      "09:55    Early stopping:         True\n",
      "09:55    Scale inputs:           True\n",
      "09:55    Shuffle labels          False\n",
      "09:55    Regularization:         None\n",
      "09:55  Loading training data\n",
      "09:55  Found 50000 samples with 2 parameters and 26 observables\n",
      "09:55  Rescaling inputs\n",
      "09:55  Only using 21 of 26 observables\n",
      "09:55  Creating model for method sally\n",
      "09:55  Training model\n",
      "09:55    Epoch 5: train loss 0.0007 (mse_score: 0.0007)\n",
      "09:55    Epoch 10: train loss 0.0006 (mse_score: 0.0006)\n",
      "09:55    Epoch 15: train loss 0.0006 (mse_score: 0.0006)\n",
      "09:55    Epoch 20: train loss 0.0005 (mse_score: 0.0005)\n",
      "09:55    Epoch 25: train loss 0.0005 (mse_score: 0.0005)\n",
      "09:55    Epoch 30: train loss 0.0005 (mse_score: 0.0005)\n",
      "09:55    Epoch 35: train loss 0.0005 (mse_score: 0.0005)\n",
      "09:56    Epoch 40: train loss 0.0005 (mse_score: 0.0005)\n",
      "09:56    Epoch 45: train loss 0.0005 (mse_score: 0.0005)\n",
      "09:56    Epoch 50: train loss 0.0005 (mse_score: 0.0005)\n",
      "09:56  Finished training\n",
      "09:56  Training estimator 3 / 5 in ensemble\n",
      "09:56  Starting training\n",
      "09:56    Method:                 sally\n",
      "09:56    Training data: x at data/samples_ensemble/x_train2.npy\n",
      "09:56                   t_xz (theta0) at  data/samples_ensemble/t_xz_train2.npy\n",
      "09:56    Features:               (0, 1, 2, 3, 4, 5, 6, 8, 9, 11, 12, 13, 14, 15, 17, 18, 19, 20, 23, 24, 25)\n",
      "09:56    Method:                 sally\n",
      "09:56    Hidden layers:          (100, 100)\n",
      "09:56    Activation function:    tanh\n",
      "09:56    Batch size:             128\n",
      "09:56    Trainer:                amsgrad\n",
      "09:56    Epochs:                 50\n",
      "09:56    Learning rate:          0.001 initially, decaying to 0.0001\n",
      "09:56    Validation split:       None\n",
      "09:56    Early stopping:         True\n",
      "09:56    Scale inputs:           True\n",
      "09:56    Shuffle labels          False\n",
      "09:56    Regularization:         None\n",
      "09:56  Loading training data\n",
      "09:56  Found 50000 samples with 2 parameters and 26 observables\n",
      "09:56  Rescaling inputs\n",
      "09:56  Only using 21 of 26 observables\n",
      "09:56  Creating model for method sally\n",
      "09:56  Training model\n",
      "09:56    Epoch 5: train loss 0.0007 (mse_score: 0.0007)\n",
      "09:56    Epoch 10: train loss 0.0006 (mse_score: 0.0006)\n",
      "09:56    Epoch 15: train loss 0.0005 (mse_score: 0.0005)\n",
      "09:56    Epoch 20: train loss 0.0005 (mse_score: 0.0005)\n",
      "09:56    Epoch 25: train loss 0.0005 (mse_score: 0.0005)\n",
      "09:56    Epoch 30: train loss 0.0005 (mse_score: 0.0005)\n",
      "09:56    Epoch 35: train loss 0.0004 (mse_score: 0.0004)\n",
      "09:57    Epoch 40: train loss 0.0004 (mse_score: 0.0004)\n",
      "09:57    Epoch 45: train loss 0.0004 (mse_score: 0.0004)\n",
      "09:57    Epoch 50: train loss 0.0004 (mse_score: 0.0004)\n",
      "09:57  Finished training\n",
      "09:57  Training estimator 4 / 5 in ensemble\n",
      "09:57  Starting training\n",
      "09:57    Method:                 sally\n",
      "09:57    Training data: x at data/samples_ensemble/x_train3.npy\n",
      "09:57                   t_xz (theta0) at  data/samples_ensemble/t_xz_train3.npy\n",
      "09:57    Features:               (0, 1, 2, 3, 4, 5, 6, 8, 9, 11, 12, 13, 14, 15, 17, 18, 19, 20, 23, 24, 25)\n",
      "09:57    Method:                 sally\n",
      "09:57    Hidden layers:          (100, 100)\n",
      "09:57    Activation function:    tanh\n",
      "09:57    Batch size:             128\n",
      "09:57    Trainer:                amsgrad\n",
      "09:57    Epochs:                 50\n",
      "09:57    Learning rate:          0.001 initially, decaying to 0.0001\n",
      "09:57    Validation split:       None\n",
      "09:57    Early stopping:         True\n",
      "09:57    Scale inputs:           True\n",
      "09:57    Shuffle labels          False\n",
      "09:57    Regularization:         None\n",
      "09:57  Loading training data\n",
      "09:57  Found 50000 samples with 2 parameters and 26 observables\n",
      "09:57  Rescaling inputs\n",
      "09:57  Only using 21 of 26 observables\n",
      "09:57  Creating model for method sally\n",
      "09:57  Training model\n",
      "09:57    Epoch 5: train loss 0.0007 (mse_score: 0.0007)\n",
      "09:57    Epoch 10: train loss 0.0006 (mse_score: 0.0006)\n",
      "09:57    Epoch 15: train loss 0.0005 (mse_score: 0.0005)\n",
      "09:57    Epoch 20: train loss 0.0005 (mse_score: 0.0005)\n",
      "09:57    Epoch 25: train loss 0.0005 (mse_score: 0.0005)\n",
      "09:57    Epoch 30: train loss 0.0005 (mse_score: 0.0005)\n",
      "09:57    Epoch 35: train loss 0.0005 (mse_score: 0.0005)\n",
      "09:58    Epoch 40: train loss 0.0005 (mse_score: 0.0005)\n",
      "09:58    Epoch 45: train loss 0.0005 (mse_score: 0.0005)\n",
      "09:58    Epoch 50: train loss 0.0005 (mse_score: 0.0005)\n",
      "09:58  Finished training\n",
      "09:58  Training estimator 5 / 5 in ensemble\n",
      "09:58  Starting training\n",
      "09:58    Method:                 sally\n",
      "09:58    Training data: x at data/samples_ensemble/x_train4.npy\n",
      "09:58                   t_xz (theta0) at  data/samples_ensemble/t_xz_train4.npy\n",
      "09:58    Features:               (0, 1, 2, 3, 4, 5, 6, 8, 9, 11, 12, 13, 14, 15, 17, 18, 19, 20, 23, 24, 25)\n",
      "09:58    Method:                 sally\n",
      "09:58    Hidden layers:          (100, 100)\n",
      "09:58    Activation function:    tanh\n",
      "09:58    Batch size:             128\n",
      "09:58    Trainer:                amsgrad\n",
      "09:58    Epochs:                 50\n",
      "09:58    Learning rate:          0.001 initially, decaying to 0.0001\n",
      "09:58    Validation split:       None\n",
      "09:58    Early stopping:         True\n",
      "09:58    Scale inputs:           True\n",
      "09:58    Shuffle labels          False\n",
      "09:58    Regularization:         None\n",
      "09:58  Loading training data\n",
      "09:58  Found 50000 samples with 2 parameters and 26 observables\n",
      "09:58  Rescaling inputs\n",
      "09:58  Only using 21 of 26 observables\n",
      "09:58  Creating model for method sally\n",
      "09:58  Training model\n",
      "09:58    Epoch 5: train loss 0.0007 (mse_score: 0.0007)\n",
      "09:58    Epoch 10: train loss 0.0006 (mse_score: 0.0006)\n",
      "09:58    Epoch 15: train loss 0.0006 (mse_score: 0.0006)\n",
      "09:58    Epoch 20: train loss 0.0005 (mse_score: 0.0005)\n",
      "09:58    Epoch 25: train loss 0.0005 (mse_score: 0.0005)\n",
      "09:58    Epoch 30: train loss 0.0005 (mse_score: 0.0005)\n",
      "09:58    Epoch 35: train loss 0.0005 (mse_score: 0.0005)\n",
      "09:58    Epoch 40: train loss 0.0005 (mse_score: 0.0005)\n"
     ]
    },
    {
     "name": "stderr",
     "output_type": "stream",
     "text": [
      "09:59    Epoch 45: train loss 0.0005 (mse_score: 0.0005)\n",
      "09:59    Epoch 50: train loss 0.0005 (mse_score: 0.0005)\n",
      "09:59  Finished training\n"
     ]
    }
   ],
   "source": [
    "ensemble_met = EnsembleForge(estimators=n_estimators)\n",
    "ensemble_met.train_all(\n",
    "    method='sally',\n",
    "    x_filename=['data/samples_ensemble/x_train{}.npy'.format(i) for i in range(n_estimators)],\n",
    "    t_xz0_filename=['data/samples_ensemble/t_xz_train{}.npy'.format(i) for i in range(n_estimators)],\n",
    "    features=(0,1,2, 3,4,5, 6,8, 9,11, 12,13,14, 15,17, 18,19,20, 23, 24,25)\n",
    ")\n",
    "ensemble_met.save('models/samples_metonly')"
   ]
  },
  {
   "cell_type": "markdown",
   "metadata": {},
   "source": [
    "### 6d) Evaluate Fisher Information"
   ]
  },
  {
   "cell_type": "markdown",
   "metadata": {},
   "source": [
    "Any evaluation of this ensemble will provide us with mean and variance of the predictions. Let's try that for the Fisher information:"
   ]
  },
  {
   "cell_type": "code",
   "execution_count": 8,
   "metadata": {},
   "outputs": [
    {
     "name": "stderr",
     "output_type": "stream",
     "text": [
      "09:59  Loading data from data/madminer_lhedata.h5\n",
      "09:59  Found 2 parameters:\n",
      "09:59     CWL2 (LHA: dim6 2, maximal power in squared ME: (2,), range: (-50.0, 50.0))\n",
      "09:59     CPWL2 (LHA: dim6 5, maximal power in squared ME: (2,), range: (-50.0, 50.0))\n",
      "09:59  Found 6 benchmarks:\n",
      "09:59     sm: CWL2 = 0.00e+00, CPWL2 = 0.00e+00\n",
      "09:59     w: CWL2 = 20.00, CPWL2 = 0.00e+00\n",
      "09:59     morphing_basis_vector_2: CWL2 = -3.26e+01, CPWL2 = -4.46e+01\n",
      "09:59     morphing_basis_vector_3: CWL2 = 8.14, CPWL2 = -3.50e+01\n",
      "09:59     morphing_basis_vector_4: CWL2 = -3.51e+01, CPWL2 = 32.41\n",
      "09:59     morphing_basis_vector_5: CWL2 = 5.86, CPWL2 = 39.09\n",
      "09:59  Found 26 observables: px_l, px_v, px_a, py_l, py_v, py_a, pz_l, pz_v, pz_a, e_l, e_v, e_a, pt_l, pt_v, pt_a, eta_l, eta_v, eta_a, dphi_lv, dphi_la, dphi_va, m_lv, m_lva, m_la, mtrans, phi_resurrection\n",
      "09:59  Found 100000 events\n",
      "09:59  Found morphing setup with 6 components\n",
      "09:59  Evaluating rate Fisher information\n",
      "09:59  Found ensemble with 5 estimators and expectations None\n",
      "09:59  Evaluating rate Fisher information\n",
      "09:59  Found ensemble with 5 estimators and expectations None\n"
     ]
    }
   ],
   "source": [
    "fisher = FisherInformation(lhedatafile, debug=False)\n",
    "\n",
    "fi_ml_mean, fi_ml_covariance = fisher.calculate_fisher_information_full_detector(\n",
    "    theta=[0.,0.],\n",
    "    model_file='models/samples_ensemble',\n",
    "    unweighted_x_sample_file='data/samples_ensemble/x_test.npy',\n",
    "    luminosity=300*1000.\n",
    ")\n",
    "\n",
    "fi_metonly_mean, fi_metonly_covariance = fisher.calculate_fisher_information_full_detector(\n",
    "    theta=[0.,0.],\n",
    "    model_file='models/samples_metonly',\n",
    "    unweighted_x_sample_file='data/samples_ensemble/x_test.npy',\n",
    "    luminosity=300*1000.\n",
    ")\n",
    "\n",
    "fi_truth_mean, fi_truth_covariance = fisher.calculate_fisher_information_full_truth(\n",
    "    theta=[0.,0.],\n",
    "    luminosity=300*1000.\n",
    ")"
   ]
  },
  {
   "cell_type": "markdown",
   "metadata": {},
   "source": [
    "The covariance can be propagated to the Fisher distance contour plot easily. Note that this also includes uncertainty bands corresponding to the uncertainty of the Machine Learning. This uncertainty corresponds to the standard devisation of the different ensemble constituents. "
   ]
  },
  {
   "cell_type": "code",
   "execution_count": 9,
   "metadata": {},
   "outputs": [
    {
     "data": {
      "image/png": "[encoded data removed]",
      "text/plain": [
       "<matplotlib.figure.Figure at 0x1028f6590>"
      ]
     },
     "metadata": {},
     "output_type": "display_data"
    }
   ],
   "source": [
    "_ = plot_fisher_information_contours_2d(\n",
    "    [fi_ml_mean, fi_metonly_mean, fi_truth_mean ],\n",
    "    [fi_ml_covariance, fi_metonly_covariance, fi_truth_covariance],\n",
    "    colors=[u'C0',u'C1',\"black\"],\n",
    "    linestyles=[\"solid\",\"solid\",\"dashed\"],\n",
    "    inline_labels=[\"ML-all\",\"ML-MET\",\"truth\"],\n",
    "    xrange=(-10,10),\n",
    "    yrange=(-5,5)\n",
    ")"
   ]
  },
  {
   "cell_type": "code",
   "execution_count": null,
   "metadata": {},
   "outputs": [],
   "source": []
  }
 ],
 "metadata": {
  "kernelspec": {
   "display_name": "Python 2",
   "language": "python",
   "name": "python2"
  },
  "language_info": {
   "codemirror_mode": {
    "name": "ipython",
    "version": 2
   },
   "file_extension": ".py",
   "mimetype": "text/x-python",
   "name": "python",
   "nbconvert_exporter": "python",
   "pygments_lexer": "ipython2",
   "version": "2.7.15"
  }
 },
 "nbformat": 4,
 "nbformat_minor": 2
}
