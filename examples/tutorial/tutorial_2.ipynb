{
 "cells": [
  {
   "cell_type": "markdown",
   "metadata": {},
   "source": [
    "# MadMiner tutorial 2: SALLY, Fisher information, and ensemble methods\n",
    "\n",
    "Johann Brehmer, Felix Kling, Kyle Cranmer 2018"
   ]
  },
  {
   "cell_type": "markdown",
   "metadata": {},
   "source": [
    "In the first tutorial you saw how to set up a process with MadMiner, generate events and turn them into training samples, and construct likelihood ratio estimators from them. Here we introduce some alternative steps which will lead us to an estimator for the score at a reference point (SALLY) and the expected Fisher information. Along the way, we'll introduce some powerful ensemble methods.\n",
    "\n",
    "If you're not familiar with SALLY, please have a look at [\"Constraining Effective Field Theories With Machine Learning\"](https://arxiv.org/abs/1805.00013)\n",
    "or, for more details, [\"A Guide to Constraining Effective Field Theories With Machine Learning\"](https://arxiv.org/abs/1805.00020). For the information geometry part, see the original publication [\"Better Higgs Measurements Through Information Geometry\"](https://arxiv.org/abs/1612.05261) or a more detailed, pedagogical introduction in Chapter 4 of [\"New Ideas for Effective Higgs Measurements\"](https://inspirehep.net/record/1624219)."
   ]
  },
  {
   "cell_type": "markdown",
   "metadata": {},
   "source": [
    "## 0. Preparations"
   ]
  },
  {
   "cell_type": "markdown",
   "metadata": {},
   "source": [
    "Make sure you've run the first tutorial before executing this notebook!"
   ]
  },
  {
   "cell_type": "code",
   "execution_count": 1,
   "metadata": {},
   "outputs": [],
   "source": [
    "from __future__ import absolute_import, division, print_function, unicode_literals\n",
    "\n",
    "import numpy as np\n",
    "import matplotlib\n",
    "from matplotlib import pyplot as plt\n",
    "%matplotlib inline\n",
    "\n",
    "from madminer.plotting import plot_2d_morphing_basis\n",
    "from madminer.sampling import SampleAugmenter\n",
    "from madminer.sampling import constant_benchmark_theta, multiple_benchmark_thetas\n",
    "from madminer.sampling import constant_morphing_theta, multiple_morphing_thetas, random_morphing_thetas\n",
    "from madminer.ml import MLForge, EnsembleForge\n",
    "from madminer.plotting import plot_fisher_information_contours_2d\n",
    "from madminer.fisherinformation import FisherInformation\n"
   ]
  },
  {
   "cell_type": "markdown",
   "metadata": {},
   "source": [
    "Please enter here the path to your MG5 root directory. This notebook assumes that you installed Delphes and Pythia through MG5."
   ]
  },
  {
   "cell_type": "code",
   "execution_count": 2,
   "metadata": {},
   "outputs": [],
   "source": [
    "mg_dir = '/Users/johannbrehmer/work/projects/madminer/MG5_aMC_v2_6_2'"
   ]
  },
  {
   "cell_type": "markdown",
   "metadata": {},
   "source": [
    "## 1. to 5.: see tutorial 1."
   ]
  },
  {
   "cell_type": "markdown",
   "metadata": {},
   "source": [
    "We assume that you have run steps 1 through 5 of the first tutorial, and thus have a MadMiner file with observables and event weights ready to go!"
   ]
  },
  {
   "cell_type": "markdown",
   "metadata": {},
   "source": [
    "## 6. Make (unweighted) training and test samples with augmented data"
   ]
  },
  {
   "cell_type": "markdown",
   "metadata": {},
   "source": [
    "Again, the next step is handled by the MadMiner class `SampleAugmenter`."
   ]
  },
  {
   "cell_type": "code",
   "execution_count": 3,
   "metadata": {},
   "outputs": [
    {
     "name": "stderr",
     "output_type": "stream",
     "text": [
      "10:18  \n",
      "10:18  ------------------------------------------------------------\n",
      "10:18  |                                                          |\n",
      "10:18  |  MadMiner v0.1.0                                         |\n",
      "10:18  |                                                          |\n",
      "10:18  |           Johann Brehmer, Kyle Cranmer, and Felix Kling  |\n",
      "10:18  |                                                          |\n",
      "10:18  ------------------------------------------------------------\n",
      "10:18  \n",
      "10:18  Loading data from data/madminer_example_shuffled.h5\n",
      "10:18  Found 2 parameters:\n",
      "10:18     CWL2 (LHA: dim6 2, maximal power in squared ME: (2,), range: (-10.0, 10.0))\n",
      "10:18     CPWL2 (LHA: dim6 5, maximal power in squared ME: (2,), range: (-10.0, 10.0))\n",
      "10:18  Found 6 benchmarks:\n",
      "10:18     sm: CWL2 = 0.00e+00, CPWL2 = 0.00e+00\n",
      "10:18     w: CWL2 = 10.00, CPWL2 = 0.00e+00\n",
      "10:18     morphing_basis_vector_2: CWL2 = 7.63, CPWL2 = -8.69e+00\n",
      "10:18     morphing_basis_vector_3: CWL2 = -8.59e+00, CPWL2 = -8.65e+00\n",
      "10:18     morphing_basis_vector_4: CWL2 = -5.88e+00, CPWL2 = 5.33\n",
      "10:18     morphing_basis_vector_5: CWL2 = 2.84, CPWL2 = 8.99\n",
      "10:18  Found 2 observables: pt_j1, delta_phi_jj\n",
      "10:18  Found 101221 events\n",
      "10:18  Found morphing setup with 6 components\n"
     ]
    }
   ],
   "source": [
    "sa = SampleAugmenter('data/madminer_example_shuffled.h5', debug=False)"
   ]
  },
  {
   "cell_type": "markdown",
   "metadata": {},
   "source": [
    "The relevant `SampleAugmenter` function for local score estimators is `extract_samples_train_local()`. As before, for the argument `theta` you can use the helper functions `constant_benchmark_theta()`, `multiple_benchmark_thetas()`, `constant_morphing_theta()`, `multiple_morphing_thetas()`, and `random_morphing_thetas()`."
   ]
  },
  {
   "cell_type": "code",
   "execution_count": 4,
   "metadata": {},
   "outputs": [
    {
     "name": "stderr",
     "output_type": "stream",
     "text": [
      "10:18  Extracting training sample for local score regression. Sampling and score evaluation according to ('benchmark', 'sm')\n",
      "10:18  Effective number of samples: 4754.043223892348\n"
     ]
    }
   ],
   "source": [
    "x, theta, t_xz = sa.extract_samples_train_local(\n",
    "    theta=constant_benchmark_theta('sm'),\n",
    "    n_samples=100000,\n",
    "    folder='./data/samples',\n",
    "    filename='train0'\n",
    ")"
   ]
  },
  {
   "cell_type": "markdown",
   "metadata": {},
   "source": [
    "## 7a. Train a neural network to estimate the score"
   ]
  },
  {
   "cell_type": "markdown",
   "metadata": {},
   "source": [
    "It's now time to build a neural network. Only this time, instead of the likelihood ratio itself, we will estimate the gradient of the log likelihood with respect to the theory parameters -- the score. To be precise, the output of the neural network is an estimate of the score at some reference parameter point, for instance the Standard Model. A neural network that estimates this \"local\" score can be used to calculate the Fisher information at that point. The estimated score can also be used as a machine learning version of Optimal Observables, and likelihoods can be estimated based on density estimation in the estimated score space. This method for likelihood ratio estimation is called SALLY, and there is a closely related version called SALLINO. Both are explained in [\"Constraining Effective Field Theories With Machine Learning\"](https://arxiv.org/abs/1805.00013) and [\"A Guide to Constraining Effective Field Theories With Machine Learning\"](https://arxiv.org/abs/1805.00020).\n",
    "\n",
    "Again, the central object for this is the `madminer.ml.MLForge` class:"
   ]
  },
  {
   "cell_type": "code",
   "execution_count": 5,
   "metadata": {},
   "outputs": [],
   "source": [
    "forge = MLForge(debug=False)"
   ]
  },
  {
   "cell_type": "code",
   "execution_count": 6,
   "metadata": {},
   "outputs": [
    {
     "name": "stderr",
     "output_type": "stream",
     "text": [
      "10:18  Starting training\n",
      "10:18    Method:                 sally\n",
      "10:18    Training data: x at data/samples/x_train0.npy\n",
      "10:18                   t_xz (theta0) at  data/samples/t_xz_train0.npy\n",
      "10:18    Features:               all\n",
      "10:18    Method:                 sally\n",
      "10:18    Hidden layers:          (100, 100)\n",
      "10:18    Activation function:    tanh\n",
      "10:18    Batch size:             256\n",
      "10:18    Trainer:                amsgrad\n",
      "10:18    Epochs:                 50\n",
      "10:18    Learning rate:          0.001 initially, decaying to 0.0001\n",
      "10:18    Validation split:       None\n",
      "10:18    Early stopping:         True\n",
      "10:18    Scale inputs:           True\n",
      "10:18    Shuffle labels          False\n",
      "10:18    Regularization:         None\n",
      "10:18  Loading training data\n",
      "10:18  Found 100000 samples with 2 parameters and 2 observables\n",
      "10:18  Rescaling inputs\n",
      "10:18  Creating model for method sally\n",
      "10:18  Training model\n",
      "10:18    Epoch 5: train loss 0.0349 (mse_score: 0.0349)\n",
      "10:19    Epoch 10: train loss 0.0345 (mse_score: 0.0345)\n",
      "10:19    Epoch 15: train loss 0.0353 (mse_score: 0.0353)\n",
      "10:20    Epoch 20: train loss 0.0339 (mse_score: 0.0339)\n",
      "10:20    Epoch 25: train loss 0.0337 (mse_score: 0.0337)\n",
      "10:21    Epoch 30: train loss 0.0335 (mse_score: 0.0335)\n",
      "10:21    Epoch 35: train loss 0.0332 (mse_score: 0.0332)\n",
      "10:21    Epoch 40: train loss 0.0331 (mse_score: 0.0331)\n",
      "10:21    Epoch 45: train loss 0.0329 (mse_score: 0.0329)\n",
      "10:22    Epoch 50: train loss 0.0327 (mse_score: 0.0327)\n",
      "10:22  Finished training\n"
     ]
    }
   ],
   "source": [
    "forge.train(\n",
    "    method='sally',\n",
    "    x_filename='data/samples/x_train0.npy',\n",
    "    t_xz0_filename='data/samples/t_xz_train0.npy',\n",
    "    n_epochs=50,\n",
    "    batch_size=256,\n",
    "    validation_split=None\n",
    ")\n",
    "\n",
    "forge.save('models/sally')"
   ]
  },
  {
   "cell_type": "markdown",
   "metadata": {},
   "source": [
    "Let's evaluate the SM score on the test data"
   ]
  },
  {
   "cell_type": "code",
   "execution_count": 7,
   "metadata": {},
   "outputs": [],
   "source": [
    "forge.load('models/sally')\n",
    "\n",
    "t_hat = forge.evaluate(\n",
    "    x_filename='data/samples/x_test.npy'\n",
    ")"
   ]
  },
  {
   "cell_type": "markdown",
   "metadata": {},
   "source": [
    "Let's have a look at the estimated score and how it is related to the observables:"
   ]
  },
  {
   "cell_type": "code",
   "execution_count": 8,
   "metadata": {},
   "outputs": [
    {
     "data": {
      "image/png": "[encoded data removed]",
      "text/plain": [
       "<Figure size 720x288 with 4 Axes>"
      ]
     },
     "metadata": {
      "needs_background": "light"
     },
     "output_type": "display_data"
    }
   ],
   "source": [
    "x = np.load('data/samples/x_test.npy')\n",
    "skip=10\n",
    "\n",
    "fig = plt.figure(figsize=(10,4))\n",
    "\n",
    "for i in range(2):\n",
    "    \n",
    "    ax = plt.subplot(1,2,i+1)\n",
    "\n",
    "    sc = plt.scatter(x[::skip,0], x[::skip,1], c=t_hat[::skip,i], s=10., cmap='viridis', vmin=-0.05, vmax=0.02)\n",
    "    cbar = plt.colorbar(sc)\n",
    "\n",
    "    cbar.set_label(r'$\\hat{t}_' + str(i) + r'(x | \\theta_{ref})$')\n",
    "    plt.xlabel(r'$p_{T,j1}$ [GeV]')\n",
    "    plt.ylabel(r'$\\Delta \\phi_{jj}$')\n",
    "    plt.xlim(10.,400.)\n",
    "    plt.ylim(0.,6.2)\n",
    "    \n",
    "plt.tight_layout()\n",
    "plt.show()\n"
   ]
  },
  {
   "cell_type": "markdown",
   "metadata": {},
   "source": [
    "In addition, we can use SALLY estimators to estimate the expected Fisher information."
   ]
  },
  {
   "cell_type": "code",
   "execution_count": 9,
   "metadata": {},
   "outputs": [
    {
     "name": "stderr",
     "output_type": "stream",
     "text": [
      "10:22  Loading data from data/madminer_example_shuffled.h5\n",
      "10:22  Found 2 parameters:\n",
      "10:22     CWL2 (LHA: dim6 2, maximal power in squared ME: (2,), range: (-10.0, 10.0))\n",
      "10:22     CPWL2 (LHA: dim6 5, maximal power in squared ME: (2,), range: (-10.0, 10.0))\n",
      "10:22  Found 6 benchmarks:\n",
      "10:22     sm: CWL2 = 0.00e+00, CPWL2 = 0.00e+00\n",
      "10:22     w: CWL2 = 10.00, CPWL2 = 0.00e+00\n",
      "10:22     morphing_basis_vector_2: CWL2 = 7.63, CPWL2 = -8.69e+00\n",
      "10:22     morphing_basis_vector_3: CWL2 = -8.59e+00, CPWL2 = -8.65e+00\n",
      "10:22     morphing_basis_vector_4: CWL2 = -5.88e+00, CPWL2 = 5.33\n",
      "10:22     morphing_basis_vector_5: CWL2 = 2.84, CPWL2 = 8.99\n",
      "10:22  Found 2 observables: pt_j1, delta_phi_jj\n",
      "10:22  Found 101221 events\n",
      "10:22  Found morphing setup with 6 components\n"
     ]
    }
   ],
   "source": [
    "fisher = FisherInformation('data/madminer_example_shuffled.h5', debug=False)"
   ]
  },
  {
   "cell_type": "code",
   "execution_count": 10,
   "metadata": {},
   "outputs": [
    {
     "name": "stderr",
     "output_type": "stream",
     "text": [
      "10:22  Evaluating rate Fisher information\n"
     ]
    },
    {
     "name": "stdout",
     "output_type": "stream",
     "text": [
      "Kinematic Fisher information after 300 ifb:\n",
      "[[12.1804956   0.54140135]\n",
      " [ 0.54140135  4.21376079]]\n"
     ]
    }
   ],
   "source": [
    "fisher_information, _ = fisher.calculate_fisher_information_full_detector(\n",
    "    theta=[0.,0.],\n",
    "    model_file='models/sally',\n",
    "    unweighted_x_sample_file='data/samples/x_test.npy',\n",
    "    luminosity=300000.\n",
    ")\n",
    "\n",
    "print('Kinematic Fisher information after 300 ifb:\\n{}'.format(fisher_information))"
   ]
  },
  {
   "cell_type": "markdown",
   "metadata": {},
   "source": [
    "We can visualize the Fisher information with contours:"
   ]
  },
  {
   "cell_type": "code",
   "execution_count": 11,
   "metadata": {},
   "outputs": [
    {
     "name": "stderr",
     "output_type": "stream",
     "text": [
      "/Users/johannbrehmer/anaconda3/envs/higgs_inference/lib/python3.6/site-packages/matplotlib/contour.py:1000: UserWarning: The following kwargs were not used by contour: 'label'\n",
      "  s)\n",
      "/Users/johannbrehmer/anaconda3/envs/higgs_inference/lib/python3.6/site-packages/matplotlib/figure.py:98: MatplotlibDeprecationWarning: \n",
      "Adding an axes using the same arguments as a previous axes currently reuses the earlier instance.  In a future version, a new instance will always be created and returned.  Meanwhile, this warning can be suppressed, and the future behavior ensured, by passing a unique label to each axes instance.\n",
      "  \"Adding an axes using the same arguments as a previous axes \"\n"
     ]
    },
    {
     "data": {
      "image/png": "[encoded data removed]",
      "text/plain": [
       "<Figure size 360x360 with 1 Axes>"
      ]
     },
     "metadata": {
      "needs_background": "light"
     },
     "output_type": "display_data"
    }
   ],
   "source": [
    "_ = plot_fisher_information_contours_2d(\n",
    "    [fisher_information],\n",
    "    xrange=(-2.,2.),\n",
    "    yrange=(-2.,2.)\n",
    ")"
   ]
  },
  {
   "cell_type": "markdown",
   "metadata": {},
   "source": [
    "## 7b. Ensemble methods"
   ]
  },
  {
   "cell_type": "markdown",
   "metadata": {},
   "source": [
    "Instead of using a single neural network to estimate the likelihood ratio, score, or Fisher information, we can use an ensemble of such estimators. That provides us with a more reliable mean prediction as well as a measure of the uncertainty. The class `madminer.ml.EnsembleForge` automates this process. Currently, it only supports SALLY estimators:"
   ]
  },
  {
   "cell_type": "code",
   "execution_count": 12,
   "metadata": {},
   "outputs": [],
   "source": [
    "ensemble = EnsembleForge(estimators=5)"
   ]
  },
  {
   "cell_type": "markdown",
   "metadata": {},
   "source": [
    "The `EnsembleForge` object has very similar functions as `MLForge`. In particular, we can train all estimators simultaneously with `train_all()` and save the ensemble to files:"
   ]
  },
  {
   "cell_type": "code",
   "execution_count": 13,
   "metadata": {
    "scrolled": false
   },
   "outputs": [
    {
     "name": "stderr",
     "output_type": "stream",
     "text": [
      "10:22  Training 5 estimators in ensemble\n",
      "10:22  Training estimator 1 / 5 in ensemble\n",
      "10:22  Starting training\n",
      "10:22    Method:                 sally\n",
      "10:22    Training data: x at data/samples/x_train0.npy\n",
      "10:22                   t_xz (theta0) at  data/samples/t_xz_train0.npy\n",
      "10:22    Features:               all\n",
      "10:22    Method:                 sally\n",
      "10:22    Hidden layers:          (100, 100)\n",
      "10:22    Activation function:    tanh\n",
      "10:22    Batch size:             256\n",
      "10:22    Trainer:                amsgrad\n",
      "10:22    Epochs:                 20\n",
      "10:22    Learning rate:          0.001 initially, decaying to 0.0001\n",
      "10:22    Validation split:       None\n",
      "10:22    Early stopping:         True\n",
      "10:22    Scale inputs:           True\n",
      "10:22    Shuffle labels          False\n",
      "10:22    Regularization:         None\n",
      "10:22  Loading training data\n",
      "10:22  Found 100000 samples with 2 parameters and 2 observables\n",
      "10:22  Rescaling inputs\n",
      "10:22  Creating model for method sally\n",
      "10:22  Training model\n",
      "10:22    Epoch 2: train loss 0.0353 (mse_score: 0.0353)\n",
      "10:22    Epoch 4: train loss 0.0349 (mse_score: 0.0349)\n",
      "10:22    Epoch 6: train loss 0.0346 (mse_score: 0.0346)\n",
      "10:22    Epoch 8: train loss 0.0345 (mse_score: 0.0345)\n",
      "10:22    Epoch 10: train loss 0.0344 (mse_score: 0.0344)\n",
      "10:22    Epoch 12: train loss 0.0343 (mse_score: 0.0343)\n",
      "10:22    Epoch 14: train loss 0.0342 (mse_score: 0.0342)\n",
      "10:22    Epoch 16: train loss 0.0341 (mse_score: 0.0341)\n",
      "10:22    Epoch 18: train loss 0.0341 (mse_score: 0.0341)\n",
      "10:22    Epoch 20: train loss 0.0340 (mse_score: 0.0340)\n",
      "10:22  Finished training\n",
      "10:22  Training estimator 2 / 5 in ensemble\n",
      "10:22  Starting training\n",
      "10:22    Method:                 sally\n",
      "10:22    Training data: x at data/samples/x_train0.npy\n",
      "10:22                   t_xz (theta0) at  data/samples/t_xz_train0.npy\n",
      "10:22    Features:               all\n",
      "10:22    Method:                 sally\n",
      "10:22    Hidden layers:          (100, 100)\n",
      "10:22    Activation function:    tanh\n",
      "10:22    Batch size:             256\n",
      "10:22    Trainer:                amsgrad\n",
      "10:22    Epochs:                 20\n",
      "10:22    Learning rate:          0.001 initially, decaying to 0.0001\n",
      "10:22    Validation split:       None\n",
      "10:22    Early stopping:         True\n",
      "10:22    Scale inputs:           True\n",
      "10:22    Shuffle labels          False\n",
      "10:22    Regularization:         None\n",
      "10:22  Loading training data\n",
      "10:22  Found 100000 samples with 2 parameters and 2 observables\n",
      "10:22  Rescaling inputs\n",
      "10:22  Creating model for method sally\n",
      "10:22  Training model\n",
      "10:22    Epoch 2: train loss 0.0355 (mse_score: 0.0355)\n",
      "10:23    Epoch 4: train loss 0.0351 (mse_score: 0.0351)\n",
      "10:23    Epoch 6: train loss 0.0348 (mse_score: 0.0348)\n",
      "10:23    Epoch 8: train loss 0.0346 (mse_score: 0.0346)\n",
      "10:23    Epoch 10: train loss 0.0344 (mse_score: 0.0344)\n",
      "10:23    Epoch 12: train loss 0.0344 (mse_score: 0.0344)\n",
      "10:23    Epoch 14: train loss 0.0343 (mse_score: 0.0343)\n",
      "10:23    Epoch 16: train loss 0.0342 (mse_score: 0.0342)\n",
      "10:23    Epoch 18: train loss 0.0341 (mse_score: 0.0341)\n",
      "10:23    Epoch 20: train loss 0.0341 (mse_score: 0.0341)\n",
      "10:23  Finished training\n",
      "10:23  Training estimator 3 / 5 in ensemble\n",
      "10:23  Starting training\n",
      "10:23    Method:                 sally\n",
      "10:23    Training data: x at data/samples/x_train0.npy\n",
      "10:23                   t_xz (theta0) at  data/samples/t_xz_train0.npy\n",
      "10:23    Features:               all\n",
      "10:23    Method:                 sally\n",
      "10:23    Hidden layers:          (100, 100)\n",
      "10:23    Activation function:    tanh\n",
      "10:23    Batch size:             256\n",
      "10:23    Trainer:                amsgrad\n",
      "10:23    Epochs:                 20\n",
      "10:23    Learning rate:          0.001 initially, decaying to 0.0001\n",
      "10:23    Validation split:       None\n",
      "10:23    Early stopping:         True\n",
      "10:23    Scale inputs:           True\n",
      "10:23    Shuffle labels          False\n",
      "10:23    Regularization:         None\n",
      "10:23  Loading training data\n",
      "10:23  Found 100000 samples with 2 parameters and 2 observables\n",
      "10:23  Rescaling inputs\n",
      "10:23  Creating model for method sally\n",
      "10:23  Training model\n",
      "10:23    Epoch 2: train loss 0.0352 (mse_score: 0.0352)\n",
      "10:23    Epoch 4: train loss 0.0349 (mse_score: 0.0349)\n",
      "10:24    Epoch 6: train loss 0.0347 (mse_score: 0.0347)\n",
      "10:24    Epoch 8: train loss 0.0345 (mse_score: 0.0345)\n",
      "10:24    Epoch 10: train loss 0.0345 (mse_score: 0.0345)\n",
      "10:24    Epoch 12: train loss 0.0343 (mse_score: 0.0343)\n",
      "10:24    Epoch 14: train loss 0.0343 (mse_score: 0.0343)\n",
      "10:24    Epoch 16: train loss 0.0342 (mse_score: 0.0342)\n",
      "10:24    Epoch 18: train loss 0.0341 (mse_score: 0.0341)\n",
      "10:24    Epoch 20: train loss 0.0340 (mse_score: 0.0340)\n",
      "10:24  Finished training\n",
      "10:24  Training estimator 4 / 5 in ensemble\n",
      "10:24  Starting training\n",
      "10:24    Method:                 sally\n",
      "10:24    Training data: x at data/samples/x_train0.npy\n",
      "10:24                   t_xz (theta0) at  data/samples/t_xz_train0.npy\n",
      "10:24    Features:               all\n",
      "10:24    Method:                 sally\n",
      "10:24    Hidden layers:          (100, 100)\n",
      "10:24    Activation function:    tanh\n",
      "10:24    Batch size:             256\n",
      "10:24    Trainer:                amsgrad\n",
      "10:24    Epochs:                 20\n",
      "10:24    Learning rate:          0.001 initially, decaying to 0.0001\n",
      "10:24    Validation split:       None\n",
      "10:24    Early stopping:         True\n",
      "10:24    Scale inputs:           True\n",
      "10:24    Shuffle labels          False\n",
      "10:24    Regularization:         None\n",
      "10:24  Loading training data\n",
      "10:24  Found 100000 samples with 2 parameters and 2 observables\n",
      "10:24  Rescaling inputs\n",
      "10:24  Creating model for method sally\n",
      "10:24  Training model\n",
      "10:24    Epoch 2: train loss 0.0352 (mse_score: 0.0352)\n",
      "10:24    Epoch 4: train loss 0.0348 (mse_score: 0.0348)\n",
      "10:24    Epoch 6: train loss 0.0347 (mse_score: 0.0347)\n",
      "10:24    Epoch 8: train loss 0.0345 (mse_score: 0.0345)\n",
      "10:24    Epoch 10: train loss 0.0346 (mse_score: 0.0346)\n",
      "10:24    Epoch 12: train loss 0.0343 (mse_score: 0.0343)\n",
      "10:24    Epoch 14: train loss 0.0342 (mse_score: 0.0342)\n",
      "10:25    Epoch 16: train loss 0.0341 (mse_score: 0.0341)\n",
      "10:25    Epoch 18: train loss 0.0341 (mse_score: 0.0341)\n",
      "10:25    Epoch 20: train loss 0.0341 (mse_score: 0.0341)\n",
      "10:25  Finished training\n",
      "10:25  Training estimator 5 / 5 in ensemble\n",
      "10:25  Starting training\n",
      "10:25    Method:                 sally\n",
      "10:25    Training data: x at data/samples/x_train0.npy\n",
      "10:25                   t_xz (theta0) at  data/samples/t_xz_train0.npy\n",
      "10:25    Features:               all\n",
      "10:25    Method:                 sally\n",
      "10:25    Hidden layers:          (100, 100)\n",
      "10:25    Activation function:    tanh\n",
      "10:25    Batch size:             256\n",
      "10:25    Trainer:                amsgrad\n",
      "10:25    Epochs:                 20\n",
      "10:25    Learning rate:          0.001 initially, decaying to 0.0001\n",
      "10:25    Validation split:       None\n",
      "10:25    Early stopping:         True\n",
      "10:25    Scale inputs:           True\n",
      "10:25    Shuffle labels          False\n",
      "10:25    Regularization:         None\n",
      "10:25  Loading training data\n",
      "10:25  Found 100000 samples with 2 parameters and 2 observables\n",
      "10:25  Rescaling inputs\n",
      "10:25  Creating model for method sally\n",
      "10:25  Training model\n",
      "10:25    Epoch 2: train loss 0.0353 (mse_score: 0.0353)\n",
      "10:25    Epoch 4: train loss 0.0349 (mse_score: 0.0349)\n",
      "10:25    Epoch 6: train loss 0.0346 (mse_score: 0.0346)\n",
      "10:25    Epoch 8: train loss 0.0345 (mse_score: 0.0345)\n",
      "10:25    Epoch 10: train loss 0.0343 (mse_score: 0.0343)\n",
      "10:25    Epoch 12: train loss 0.0343 (mse_score: 0.0343)\n",
      "10:25    Epoch 14: train loss 0.0341 (mse_score: 0.0341)\n",
      "10:25    Epoch 16: train loss 0.0341 (mse_score: 0.0341)\n",
      "10:25    Epoch 18: train loss 0.0340 (mse_score: 0.0340)\n",
      "10:25    Epoch 20: train loss 0.0339 (mse_score: 0.0339)\n",
      "10:25  Finished training\n"
     ]
    }
   ],
   "source": [
    "ensemble.train_all(\n",
    "    method='sally',\n",
    "    x_filename='data/samples/x_train0.npy',\n",
    "    t_xz0_filename='data/samples/t_xz_train0.npy',\n",
    "    n_epochs=20,\n",
    "    batch_size=256,\n",
    "    validation_split=None\n",
    ")\n",
    "\n",
    "ensemble.save('models/sally_ensemble')"
   ]
  },
  {
   "cell_type": "markdown",
   "metadata": {},
   "source": [
    "Any evaluation of this ensemble will provide us with mean and variance of the predictions. Let's try that for the Fisher information:"
   ]
  },
  {
   "cell_type": "code",
   "execution_count": 14,
   "metadata": {},
   "outputs": [
    {
     "name": "stderr",
     "output_type": "stream",
     "text": [
      "10:25  Loading data from data/madminer_example_shuffled.h5\n",
      "10:25  Found 2 parameters:\n",
      "10:25     CWL2 (LHA: dim6 2, maximal power in squared ME: (2,), range: (-10.0, 10.0))\n",
      "10:25     CPWL2 (LHA: dim6 5, maximal power in squared ME: (2,), range: (-10.0, 10.0))\n",
      "10:25  Found 6 benchmarks:\n",
      "10:25     sm: CWL2 = 0.00e+00, CPWL2 = 0.00e+00\n",
      "10:25     w: CWL2 = 10.00, CPWL2 = 0.00e+00\n",
      "10:25     morphing_basis_vector_2: CWL2 = 7.63, CPWL2 = -8.69e+00\n",
      "10:25     morphing_basis_vector_3: CWL2 = -8.59e+00, CPWL2 = -8.65e+00\n",
      "10:25     morphing_basis_vector_4: CWL2 = -5.88e+00, CPWL2 = 5.33\n",
      "10:25     morphing_basis_vector_5: CWL2 = 2.84, CPWL2 = 8.99\n",
      "10:25  Found 2 observables: pt_j1, delta_phi_jj\n",
      "10:25  Found 101221 events\n",
      "10:25  Found morphing setup with 6 components\n",
      "10:26  Evaluating rate Fisher information\n",
      "10:26  Found ensemble with 5 estimators and expectations None\n"
     ]
    }
   ],
   "source": [
    "fisher = FisherInformation('data/madminer_example_shuffled.h5', debug=False)\n",
    "\n",
    "fisher_information_mean, fisher_information_covariance = fisher.calculate_fisher_information_full_detector(\n",
    "    theta=[0.,0.],\n",
    "    model_file='models/sally_ensemble',\n",
    "    unweighted_x_sample_file='data/samples/x_test.npy',\n",
    "    luminosity=300000.\n",
    ")"
   ]
  },
  {
   "cell_type": "markdown",
   "metadata": {},
   "source": [
    "The covariance can be propagated to the Fisher distance contour plot easily:"
   ]
  },
  {
   "cell_type": "code",
   "execution_count": 15,
   "metadata": {},
   "outputs": [
    {
     "data": {
      "image/png": "[encoded data removed]",
      "text/plain": [
       "<Figure size 360x360 with 1 Axes>"
      ]
     },
     "metadata": {
      "needs_background": "light"
     },
     "output_type": "display_data"
    }
   ],
   "source": [
    "_ = plot_fisher_information_contours_2d(\n",
    "    [fisher_information_mean],\n",
    "    [fisher_information_covariance],\n",
    "    xrange=(-1.,1.),\n",
    "    yrange=(-1.,1.)\n",
    ")"
   ]
  },
  {
   "cell_type": "markdown",
   "metadata": {},
   "source": [
    "Confused? If you have questions, please have a look at the papers, the module documentation, or drop us an email!"
   ]
  },
  {
   "cell_type": "code",
   "execution_count": null,
   "metadata": {},
   "outputs": [],
   "source": []
  }
 ],
 "metadata": {
  "kernelspec": {
   "display_name": "Python 3",
   "language": "python",
   "name": "python3"
  },
  "language_info": {
   "codemirror_mode": {
    "name": "ipython",
    "version": 3
   },
   "file_extension": ".py",
   "mimetype": "text/x-python",
   "name": "python",
   "nbconvert_exporter": "python",
   "pygments_lexer": "ipython3",
   "version": "3.6.7"
  }
 },
 "nbformat": 4,
 "nbformat_minor": 2
}
